{
 "cells": [
  {
   "cell_type": "code",
   "execution_count": 2,
   "metadata": {},
   "outputs": [],
   "source": [
    "import numpy as np"
   ]
  },
  {
   "cell_type": "code",
   "execution_count": 3,
   "metadata": {},
   "outputs": [
    {
     "data": {
      "text/plain": [
       "array([28.66056474, 23.88382571, 34.74016638, 21.44744706, 29.25347975,\n",
       "       16.74745569, 20.07931849, 26.93254952, 29.88909117, 18.07232694,\n",
       "       30.91575981, 19.48847901, 15.52669785, 16.43685357, 31.93943521,\n",
       "       30.28778051, 20.78686556, 27.8172859 , 32.16758825, 15.1980112 ,\n",
       "       20.80618941, 22.49919988, 17.89785786, 18.5194616 , 30.87867823,\n",
       "       21.0555257 , 18.7416666 , 15.73545746, 33.9927326 , 31.57285065])"
      ]
     },
     "execution_count": 3,
     "metadata": {},
     "output_type": "execute_result"
    }
   ],
   "source": [
    "# Dữ liệu nhiệt độ hàng ngày\n",
    "daily_temperatures=np.random.uniform(15,35,30)\n",
    "daily_temperatures"
   ]
  },
  {
   "cell_type": "code",
   "execution_count": 4,
   "metadata": {},
   "outputs": [
    {
     "data": {
      "text/plain": [
       "array([28.66, 23.88, 34.74, 21.45, 29.25, 16.75, 20.08, 26.93, 29.89,\n",
       "       18.07, 30.92, 19.49, 15.53, 16.44, 31.94, 30.29, 20.79, 27.82,\n",
       "       32.17, 15.2 , 20.81, 22.5 , 17.9 , 18.52, 30.88, 21.06, 18.74,\n",
       "       15.74, 33.99, 31.57])"
      ]
     },
     "execution_count": 4,
     "metadata": {},
     "output_type": "execute_result"
    }
   ],
   "source": [
    "# làm tròn 2 chữ số thập phân\n",
    "round_temperatures=np.round(daily_temperatures,2)\n",
    "round_temperatures"
   ]
  },
  {
   "cell_type": "code",
   "execution_count": 5,
   "metadata": {},
   "outputs": [
    {
     "name": "stdout",
     "output_type": "stream",
     "text": [
      "Nhiệt độ trung bình trong tháng: 24.07°C\n"
     ]
    }
   ],
   "source": [
    "# tính nhiệt độ trung bình \n",
    "average_temp=np.mean(round_temperatures)\n",
    "print(f\"Nhiệt độ trung bình trong tháng: {average_temp:.2f}°C\")"
   ]
  },
  {
   "cell_type": "code",
   "execution_count": 6,
   "metadata": {},
   "outputs": [
    {
     "name": "stdout",
     "output_type": "stream",
     "text": [
      "Nhiệt độ cao nhất: 34.74°C vào ngày thứ 3\n"
     ]
    }
   ],
   "source": [
    " # Tìm nhiệt độ max\n",
    "max_temp=np.max(round_temperatures)\n",
    "day_max_temp=np.argmax(round_temperatures)+1\n",
    "print(f\"Nhiệt độ cao nhất: {max_temp}°C vào ngày thứ {day_max_temp}\")"
   ]
  },
  {
   "cell_type": "code",
   "execution_count": 7,
   "metadata": {},
   "outputs": [
    {
     "name": "stdout",
     "output_type": "stream",
     "text": [
      "Nhiệt độ thấp nhất: 15.2°C vào ngày thứ 20\n"
     ]
    }
   ],
   "source": [
    "# tìm nhiệt độ min\n",
    "min_temp=np.min(round_temperatures)\n",
    "day_min_temp=np.argmin(round_temperatures)+1\n",
    "print(f\"Nhiệt độ thấp nhất: {min_temp}°C vào ngày thứ {day_min_temp}\")"
   ]
  },
  {
   "cell_type": "code",
   "execution_count": 8,
   "metadata": {},
   "outputs": [
    {
     "name": "stdout",
     "output_type": "stream",
     "text": [
      "Sự chênh lệch nhiệt độ lớn nhất: 18.25°C giữa ngày 28 và ngày 29\n"
     ]
    }
   ],
   "source": [
    "temperature_differences = np.abs(np.diff(round_temperatures)) \n",
    "max_diff = np.max(temperature_differences)\n",
    "day_max_difference = np.argmax(temperature_differences) + 1\n",
    "print(f\"Sự chênh lệch nhiệt độ lớn nhất: {max_diff}°C giữa ngày {day_max_difference} và ngày {day_max_difference + 1}\")"
   ]
  },
  {
   "cell_type": "code",
   "execution_count": 9,
   "metadata": {},
   "outputs": [
    {
     "name": "stdout",
     "output_type": "stream",
     "text": [
      "Nhiệt dộ các ngày trên 20 độ: [28.66 23.88 34.74 21.45 29.25 20.08 26.93 29.89 30.92 31.94 30.29 20.79\n",
      " 27.82 32.17 20.81 22.5  30.88 21.06 33.99 31.57]\n"
     ]
    }
   ],
   "source": [
    "# nhiệt dộ lớn hơn 20\n",
    "day_temp_above_20=round_temperatures[round_temperatures>20]\n",
    "print(\"Nhiệt dộ các ngày trên 20 độ:\",day_temp_above_20)"
   ]
  },
  {
   "cell_type": "code",
   "execution_count": 10,
   "metadata": {},
   "outputs": [
    {
     "name": "stdout",
     "output_type": "stream",
     "text": [
      "Nhiệt độ của các ngày 5, 10, 15, 20, và 25: [29.25 18.07 31.94 15.2  30.88]\n"
     ]
    }
   ],
   "source": [
    "# lấy ngày 5,10,15,20,25\n",
    "days_specified = round_temperatures[[4, 9, 14, 19, 24]]\n",
    "print(\"Nhiệt độ của các ngày 5, 10, 15, 20, và 25:\", days_specified)"
   ]
  },
  {
   "cell_type": "code",
   "execution_count": 11,
   "metadata": {},
   "outputs": [
    {
     "name": "stdout",
     "output_type": "stream",
     "text": [
      "Nhiệt độ của các ngày có nhiệt độ trên trung bình (24.07°C): [28.66 34.74 29.25 26.93 29.89 30.92 31.94 30.29 27.82 32.17 30.88 33.99\n",
      " 31.57]\n"
     ]
    }
   ],
   "source": [
    "average_temp = np.mean(round_temperatures)  # Tính nhiệt độ trung bình\n",
    "above_average_days = round_temperatures[round_temperatures> average_temp]\n",
    "print(f\"Nhiệt độ của các ngày có nhiệt độ trên trung bình ({average_temp:.2f}°C):\", above_average_days)"
   ]
  },
  {
   "cell_type": "code",
   "execution_count": 12,
   "metadata": {},
   "outputs": [
    {
     "name": "stdout",
     "output_type": "stream",
     "text": [
      "Nhiệt độ của các ngày chẵn trong tháng: [23.88 21.45 16.75 26.93 18.07 19.49 16.44 30.29 27.82 15.2  22.5  18.52\n",
      " 21.06 15.74 31.57]\n",
      "Nhiệt độ của các ngày lẻ trong tháng: [28.66 34.74 29.25 20.08 29.89 30.92 15.53 31.94 20.79 32.17 20.81 17.9\n",
      " 30.88 18.74 33.99]\n"
     ]
    }
   ],
   "source": [
    "even_days = round_temperatures[1::2]  # Các ngày chẵn (chỉ số 1, 3, 5,...)\n",
    "odd_days = round_temperatures[::2]    # Các ngày lẻ (chỉ số 0, 2, 4,...)\n",
    "print(\"Nhiệt độ của các ngày chẵn trong tháng:\", even_days)\n",
    "print(\"Nhiệt độ của các ngày lẻ trong tháng:\", odd_days)"
   ]
  }
 ],
 "metadata": {
  "kernelspec": {
   "display_name": "Python 3",
   "language": "python",
   "name": "python3"
  },
  "language_info": {
   "codemirror_mode": {
    "name": "ipython",
    "version": 3
   },
   "file_extension": ".py",
   "mimetype": "text/x-python",
   "name": "python",
   "nbconvert_exporter": "python",
   "pygments_lexer": "ipython3",
   "version": "3.13.0"
  }
 },
 "nbformat": 4,
 "nbformat_minor": 2
}
