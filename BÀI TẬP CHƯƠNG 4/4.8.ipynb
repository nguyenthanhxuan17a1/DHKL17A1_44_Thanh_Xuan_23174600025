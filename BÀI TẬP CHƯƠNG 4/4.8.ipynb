{
 "cells": [
  {
   "cell_type": "code",
   "execution_count": 4,
   "metadata": {},
   "outputs": [],
   "source": [
    "import numpy as np\n",
    "import pandas as pd"
   ]
  },
  {
   "cell_type": "code",
   "execution_count": 5,
   "metadata": {},
   "outputs": [
    {
     "data": {
      "text/plain": [
       "0     0.183540\n",
       "1     0.651139\n",
       "2     0.084637\n",
       "3     0.878610\n",
       "4     0.268990\n",
       "5     0.707486\n",
       "6     0.172725\n",
       "7     0.401205\n",
       "8     0.559738\n",
       "9     0.234896\n",
       "10    0.558717\n",
       "11    0.387836\n",
       "12    0.971368\n",
       "13    0.622290\n",
       "14    0.008389\n",
       "15    0.832707\n",
       "16    0.640909\n",
       "17    0.626212\n",
       "18    0.132604\n",
       "19    0.046847\n",
       "dtype: float64"
      ]
     },
     "execution_count": 5,
     "metadata": {},
     "output_type": "execute_result"
    }
   ],
   "source": [
    "ser=pd.Series(np.random.random(20))\n",
    "ser"
   ]
  },
  {
   "cell_type": "code",
   "execution_count": 6,
   "metadata": {},
   "outputs": [
    {
     "name": "stdout",
     "output_type": "stream",
     "text": [
      "Phân vị tương ứng: 0      Phân vị thứ 3\n",
      "1      Phân vị thứ 8\n",
      "2      Phân vị thứ 2\n",
      "3     Phân vị thứ 10\n",
      "4      Phân vị thứ 4\n",
      "5      Phân vị thứ 9\n",
      "6      Phân vị thứ 3\n",
      "7      Phân vị thứ 5\n",
      "8      Phân vị thứ 6\n",
      "9      Phân vị thứ 4\n",
      "10     Phân vị thứ 6\n",
      "11     Phân vị thứ 5\n",
      "12    Phân vị thứ 10\n",
      "13     Phân vị thứ 7\n",
      "14     Phân vị thứ 1\n",
      "15     Phân vị thứ 9\n",
      "16     Phân vị thứ 8\n",
      "17     Phân vị thứ 7\n",
      "18     Phân vị thứ 2\n",
      "19     Phân vị thứ 1\n",
      "dtype: category\n",
      "Categories (10, object): ['Phân vị thứ 1' < 'Phân vị thứ 2' < 'Phân vị thứ 3' < 'Phân vị thứ 4' ... 'Phân vị thứ 7' < 'Phân vị thứ 8' < 'Phân vị thứ 9' < 'Phân vị thứ 10']\n"
     ]
    }
   ],
   "source": [
    "print(\"Phân vị tương ứng:\",pd.qcut(ser, q=10, labels=[f\"Phân vị thứ {i}\" for i in range(1, 11)]))"
   ]
  }
 ],
 "metadata": {
  "kernelspec": {
   "display_name": "Python 3",
   "language": "python",
   "name": "python3"
  },
  "language_info": {
   "codemirror_mode": {
    "name": "ipython",
    "version": 3
   },
   "file_extension": ".py",
   "mimetype": "text/x-python",
   "name": "python",
   "nbconvert_exporter": "python",
   "pygments_lexer": "ipython3",
   "version": "3.13.0"
  }
 },
 "nbformat": 4,
 "nbformat_minor": 2
}
