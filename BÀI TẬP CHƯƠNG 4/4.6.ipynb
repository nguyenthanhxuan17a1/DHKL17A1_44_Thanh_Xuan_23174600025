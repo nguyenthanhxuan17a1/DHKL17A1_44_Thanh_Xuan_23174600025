{
 "cells": [
  {
   "cell_type": "code",
   "execution_count": 1,
   "metadata": {},
   "outputs": [],
   "source": [
    "import pandas as pd\n",
    "import numpy as np\n"
   ]
  },
  {
   "cell_type": "code",
   "execution_count": 7,
   "metadata": {},
   "outputs": [
    {
     "data": {
      "text/plain": [
       "0     f\n",
       "1     d\n",
       "2     g\n",
       "3     f\n",
       "4     f\n",
       "5     f\n",
       "6     d\n",
       "7     a\n",
       "8     a\n",
       "9     h\n",
       "10    c\n",
       "11    f\n",
       "12    f\n",
       "13    g\n",
       "14    g\n",
       "15    f\n",
       "16    h\n",
       "17    f\n",
       "18    d\n",
       "19    a\n",
       "20    f\n",
       "21    b\n",
       "22    e\n",
       "23    g\n",
       "24    c\n",
       "25    h\n",
       "26    g\n",
       "27    a\n",
       "28    f\n",
       "29    g\n",
       "dtype: object"
      ]
     },
     "execution_count": 7,
     "metadata": {},
     "output_type": "execute_result"
    }
   ],
   "source": [
    "ser=pd.Series(np.take(list('abcdefgh'),np.random.randint(8,size=30)))\n",
    "ser\n"
   ]
  },
  {
   "cell_type": "markdown",
   "metadata": {},
   "source": [
    "Đoạn code trên tạo ra 1 pandas.Series gồm 30 giá trị ngẫu nhiên từ danh sách các kí tự (abcdegh)"
   ]
  },
  {
   "cell_type": "code",
   "execution_count": 8,
   "metadata": {},
   "outputs": [
    {
     "name": "stdout",
     "output_type": "stream",
     "text": [
      "Số lần  xuất hiện : f    10\n",
      "g     6\n",
      "a     4\n",
      "d     3\n",
      "h     3\n",
      "c     2\n",
      "b     1\n",
      "e     1\n",
      "Name: count, dtype: int64\n"
     ]
    }
   ],
   "source": [
    "# Ý B\n",
    "print(\"Số lần  xuất hiện :\",ser.value_counts())\n"
   ]
  }
 ],
 "metadata": {
  "kernelspec": {
   "display_name": "Python 3",
   "language": "python",
   "name": "python3"
  },
  "language_info": {
   "codemirror_mode": {
    "name": "ipython",
    "version": 3
   },
   "file_extension": ".py",
   "mimetype": "text/x-python",
   "name": "python",
   "nbconvert_exporter": "python",
   "pygments_lexer": "ipython3",
   "version": "3.13.0"
  }
 },
 "nbformat": 4,
 "nbformat_minor": 2
}
