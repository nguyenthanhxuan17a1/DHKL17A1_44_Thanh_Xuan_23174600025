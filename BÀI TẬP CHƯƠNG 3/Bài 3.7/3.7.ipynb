{
 "cells": [
  {
   "cell_type": "code",
   "execution_count": 1,
   "metadata": {},
   "outputs": [],
   "source": [
    "import numpy as np "
   ]
  },
  {
   "cell_type": "code",
   "execution_count": 2,
   "metadata": {},
   "outputs": [
    {
     "data": {
      "text/plain": [
       "array([ 74, 180,  74, ..., 190,  73, 195])"
      ]
     },
     "execution_count": 2,
     "metadata": {},
     "output_type": "execute_result"
    }
   ],
   "source": [
    "lst = []\n",
    "with open('D:\\\\BÀI TẬP\\\\BÀI TẬP CHƯƠNG 3\\\\Bài 3.7\\\\baseball_2D.txt', 'r', encoding='utf-8-sig') as file:\n",
    "    for i in file:\n",
    "        data = i.replace('[','').replace(']','').split(',')\n",
    "np_baseball = np.array(data).astype(int)\n",
    "np_baseball"
   ]
  },
  {
   "cell_type": "code",
   "execution_count": 8,
   "metadata": {},
   "outputs": [],
   "source": [
    "np_baseball=np_baseball.reshape(-1,2)"
   ]
  },
  {
   "cell_type": "code",
   "execution_count": 9,
   "metadata": {},
   "outputs": [
    {
     "data": {
      "text/plain": [
       "array([ 73, 200])"
      ]
     },
     "execution_count": 9,
     "metadata": {},
     "output_type": "execute_result"
    }
   ],
   "source": [
    "np_baseball[50]"
   ]
  },
  {
   "cell_type": "code",
   "execution_count": 10,
   "metadata": {},
   "outputs": [
    {
     "name": "stdout",
     "output_type": "stream",
     "text": [
      "\n",
      "Chiều cao của các cầu thủ từ dòng 124 trở đi:\n",
      "[75 78 73 73 74 75 76 71 73 74 76 76 74 73 74 70 72 73 73 73 73 71 74 74\n",
      " 72 74 71 74 73 75 75 79 73 75 76 74 76 78 74 76 72 74 76 74 75 78 75 72\n",
      " 74 72 74 70 71 70 75 71 71 73 72 71 73 72 75 74 74 75 73 77 73 76 75 74\n",
      " 76 75 73 71 76 75 72 71 77 73 74 71 72 74 75 73 72 75 75 74 72 74 71 70\n",
      " 74 77 77 75 75 78 75 76 73 75 75 79 77 76 71 75 74 69 71 76 72 72 70 72\n",
      " 73 71 72 71 73 72 73 74 74 72 75 74 74 77 75 73 72 71 74 77 75 75 75 78\n",
      " 78 74 76 78 76 70 72 80 74 74 71 70 72 71 74 71 72 71 74 69 76 75 75 76\n",
      " 73 76 73 77 73 72 72 77 77 71 74 74 73 78 75 73 70 74 72 73 73 75 75 74\n",
      " 76 73 74 75 75 72 73 73 72 74 78 76 73 74 75 70 75 71 72 78 75 73 73 71\n",
      " 75 77 72 69 73 74 72 70 75 70 72 72 74 73 74 76 75 80 72 75 73 74 74 73\n",
      " 75 75 71 73 75 74 74 72 74 74 74 73 76 75 72 73 73 73 72 72 72 72 71 75\n",
      " 75 74 73 75 79 74 76 73 74 74 72 74 74 75 78 74 74 74 77 70 73 74 73 71\n",
      " 75 71 72 77 74 70 77 73 72 76 71 76 78 75 73 78 74 79 75 76 72 75 75 70\n",
      " 72 70 74 71 76 73 76 71 69 72 72 69 73 69 73 74 74 72 71 72 72 76 76 76\n",
      " 74 76 75 71 72 71 73 75 76 75 71 75 74 72 73 73 73 73 76 72 76 73 73 73\n",
      " 75 75 77 73 72 75 70 74 72 80 71 71 74 74 73 75 76 73 77 72 73 77 76 71\n",
      " 75 73 74 77 71 72 73 69 73 70 74 76 73 73 75 73 79 74 73 74 77 75 74 73\n",
      " 77 73 77 74 74 73 77 74 77 75 77 75 71 74 70 79 72 72 70 74 74 72 73 72\n",
      " 74 74 76 82 74 74 70 73 73 74 77 72 76 73 73 72 74 74 71 72 75 74 74 77\n",
      " 70 71 73 76 71 75 74 72 76 79 76 73 76 78 75 76 72 72 73 73 75 71 76 70\n",
      " 75 74 75 73 71 71 72 73 73 72 69 73 78 71 73 75 76 70 74 77 75 79 72 77\n",
      " 73 75 75 75 73 73 76 77 75 70 71 71 75 74 69 70 75 72 75 73 72 72 72 76\n",
      " 75 74 69 73 72 72 75 77 76 80 77 76 79 71 75 73 76 77 73 76 70 75 73 75\n",
      " 70 69 71 72 72 73 70 70 73 76 75 72 73 79 71 72 74 74 74 72 76 76 72 72\n",
      " 71 72 72 70 77 74 72 76 71 76 71 73 70 73 73 72 71 71 71 72 72 74 74 74\n",
      " 71 72 75 72 71 72 72 72 72 74 74 77 75 73 75 73 76 72 77 75 72 71 71 75\n",
      " 72 73 73 71 70 75 71 76 73 68 71 72 74 77 72 76 78 81 72 73 76 72 72 74\n",
      " 76 73 76 75 70 71 74 72 73 76 76 73 71 68 71 71 74 77 69 72 76 75 76 75\n",
      " 76 72 74 76 74 72 75 78 77 70 72 79 74 71 68 77 75 71 72 70 72 72 73 72\n",
      " 74 72 72 75 72 73 74 72 78 75 72 74 75 75 76 74 74 73 74 71 74 75 76 74\n",
      " 76 76 73 75 75 74 68 72 75 71 70 72 73 72 75 74 70 76 71 82 72 73 74 71\n",
      " 75 77 72 74 72 73 78 77 73 73 73 73 73 76 75 70 73 72 73 75 74 73 73 76\n",
      " 73 75 70 77 72 77 74 75 75 75 75 72 74 71 76 71 75 76 83 75 74 76 72 72\n",
      " 75 75 72 77 73 72 70 74 72 74 72 71 70 71 76 74 76 74 74 74 75 75 71 71\n",
      " 74 77 71 74 75 77 76 74 76 72 71 72 75 73 68 72 69 73 73 75 70 70 74 75\n",
      " 74 74 73 74 75 77 73 74 76 74 75 73 76 78 75 73 77 74 72 74 72 71 73 75\n",
      " 73 67 67 76 74 73 70 75 70 72 77 79 78 74 75 75 78 76 75 69 75 72 75 73\n",
      " 74 75 75 73]\n"
     ]
    }
   ],
   "source": [
    "# 3. Cho biết chiều cao của các cầu thủ từ dòng 124 trở đi\n",
    "print(\"\\nChiều cao của các cầu thủ từ dòng 124 trở đi:\")\n",
    "print(np_baseball[123:,0])"
   ]
  },
  {
   "cell_type": "code",
   "execution_count": 12,
   "metadata": {},
   "outputs": [
    {
     "name": "stdout",
     "output_type": "stream",
     "text": [
      "\n",
      "Chiều cao trung bình của các cầu thủ:\n",
      "73.6896551724138\n"
     ]
    }
   ],
   "source": [
    "mean_height = np.mean(np_baseball[:,0])  # Giả sử chiều cao nằm ở cột đầu tiên\n",
    "print(\"\\nChiều cao trung bình của các cầu thủ:\")\n",
    "print(mean_height)"
   ]
  },
  {
   "cell_type": "code",
   "execution_count": 13,
   "metadata": {},
   "outputs": [
    {
     "name": "stdout",
     "output_type": "stream",
     "text": [
      "\n",
      "Hệ số tương quan giữa chiều cao và cân nặng:\n",
      "0.5315393226146095\n"
     ]
    }
   ],
   "source": [
    "correlation = np.corrcoef(np_baseball[:, 0], np_baseball[:, 1])\n",
    "print(\"\\nHệ số tương quan giữa chiều cao và cân nặng:\")\n",
    "print(correlation[0, 1])"
   ]
  },
  {
   "cell_type": "code",
   "execution_count": null,
   "metadata": {},
   "outputs": [],
   "source": []
  }
 ],
 "metadata": {
  "kernelspec": {
   "display_name": "base",
   "language": "python",
   "name": "python3"
  },
  "language_info": {
   "codemirror_mode": {
    "name": "ipython",
    "version": 3
   },
   "file_extension": ".py",
   "mimetype": "text/x-python",
   "name": "python",
   "nbconvert_exporter": "python",
   "pygments_lexer": "ipython3",
   "version": "3.12.4"
  }
 },
 "nbformat": 4,
 "nbformat_minor": 2
}
