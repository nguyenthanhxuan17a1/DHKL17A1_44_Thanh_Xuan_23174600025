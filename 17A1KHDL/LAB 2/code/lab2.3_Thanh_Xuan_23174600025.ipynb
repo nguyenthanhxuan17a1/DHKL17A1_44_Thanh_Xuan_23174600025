{
 "cells": [
  {
   "cell_type": "code",
   "execution_count": 32,
   "metadata": {},
   "outputs": [
    {
     "name": "stdout",
     "output_type": "stream",
     "text": [
      "Efficiency: ['94', '97', '114', '117', '117', '59', '133', '71', '86', '137', '120', '138', '138', '62', '108', '115', '89', '137', '96', '138', '131', '87', '75', '127', '122', '59', '70', '130', '119', '129', '97', '114', '132', '149', '138', '99', '79', '69', '69', '64', '89', '82', '115', '59', '107', '82', '81', '124', '73', '85', '125', '105', '78', '84', '50', '50', '86', '103', '55', '88', '67', '129', '54', '92', '108', '81', '51', '115', '91', '107', '85', '61', '96', '132', '141', '50', '64', '149', '103', '62', '92', '134', '125', '118', '56', '118', '97', '53', '126', '102', '128', '65', '70', '149', '108', '73', '129', '63', '135', '98']\n",
      "Shifts: ['Afternoon', 'Afternoon', 'Afternoon', 'Morning', 'Afternoon', 'Night', 'Morning', 'Afternoon', 'Night', 'Morning', 'Night', 'Morning', 'Afternoon', 'Night', 'Night', 'Afternoon', 'Morning', 'Afternoon', 'Afternoon', 'Morning', 'Night', 'Night', 'Night', 'Night', 'Afternoon', 'Night', 'Night', 'Night', 'Night', 'Night', 'Morning', 'Afternoon', 'Night', 'Night', 'Afternoon', 'Night', 'Afternoon', 'Morning', 'Night', 'Night', 'Morning', 'Night', 'Morning', 'Morning', 'Night', 'Morning', 'Night', 'Night', 'Night', 'Morning', 'Morning', 'Morning', 'Afternoon', 'Night', 'Morning', 'Afternoon', 'Night', 'Night', 'Night', 'Afternoon', 'Morning', 'Morning', 'Morning', 'Morning', 'Night', 'Night', 'Morning', 'Morning', 'Morning', 'Afternoon', 'Night', 'Morning', 'Morning', 'Afternoon', 'Morning', 'Night', 'Afternoon', 'Afternoon', 'Afternoon', 'Morning', 'Morning', 'Morning', 'Afternoon', 'Afternoon', 'Night', 'Afternoon', 'Morning', 'Morning', 'Afternoon', 'Night', 'Afternoon', 'Afternoon', 'Afternoon', 'Morning', 'Morning', 'Morning', 'Afternoon', 'Night', 'Afternoon', 'Afternoon']\n"
     ]
    }
   ],
   "source": [
    "# Đọc dữ liệu từ tập tin efficiency.txt\n",
    "fath_file1=r\"D:\\17A1KHDL\\LAB 2\\data\\efficiency.txt\"\n",
    "efficiency =[]\n",
    "with open(fath_file1, 'r') as file:\n",
    "    for i in file:\n",
    "        data = i.strip()\n",
    "        efficiency.append(data)\n",
    "\n",
    "# Đọc dữ liệu từ tập tin shifts.txt\n",
    "fath_file2=r\"D:\\17A1KHDL\\LAB 2\\data\\shifts.txt\"\n",
    "shifts=[]\n",
    "with open(fath_file2, 'r') as file:\n",
    "    for j in file:\n",
    "        data1= j.strip()\n",
    "        shifts.append(data1)\n",
    "\n",
    "# In ra dữ liệu\n",
    "print(\"Efficiency:\", efficiency)\n",
    "print(\"Shifts:\", shifts)\n"
   ]
  },
  {
   "cell_type": "code",
   "execution_count": 33,
   "metadata": {},
   "outputs": [
    {
     "name": "stdout",
     "output_type": "stream",
     "text": [
      "<class 'numpy.ndarray'>\n"
     ]
    },
    {
     "data": {
      "text/plain": [
       "array(['Afternoon', 'Afternoon', 'Afternoon', 'Morning', 'Afternoon'],\n",
       "      dtype='<U9')"
      ]
     },
     "execution_count": 33,
     "metadata": {},
     "output_type": "execute_result"
    }
   ],
   "source": [
    "import numpy as np\n",
    "# Chuyển list shifts thành numpy array\n",
    "np_shifts = np.array(shifts)\n",
    "# Kiểm tra kiểu dữ liệu của np_shifts\n",
    "print(type(np_shifts))\n",
    "np_shifts[:5]"
   ]
  },
  {
   "cell_type": "code",
   "execution_count": 31,
   "metadata": {},
   "outputs": [
    {
     "name": "stdout",
     "output_type": "stream",
     "text": [
      "<class 'numpy.ndarray'>\n"
     ]
    },
    {
     "data": {
      "text/plain": [
       "array([ 94,  97, 114, 117, 117])"
      ]
     },
     "execution_count": 31,
     "metadata": {},
     "output_type": "execute_result"
    }
   ],
   "source": [
    "# Chuyển list efficiency thành numpy array\n",
    "np_efficiency = np.array(efficiency,dtype=int)\n",
    "# Kiểm tra kiểu dữ liệu của np_efficiency\n",
    "print(type(np_efficiency))\n",
    "np_efficiency[:5]\n"
   ]
  },
  {
   "cell_type": "code",
   "execution_count": 34,
   "metadata": {},
   "outputs": [
    {
     "name": "stdout",
     "output_type": "stream",
     "text": [
      "Hiệu suất trung bình ca Morning: 96.8529411764706\n"
     ]
    }
   ],
   "source": [
    "# Lọc những nhân viên làm việc vào ca 'Morning' và tính hiệu suất trung bình\n",
    "morning_efficiency = np_efficiency[np_shifts == 'Morning']\n",
    "average_morning_efficiency = morning_efficiency.mean()\n",
    "print(f\"Hiệu suất trung bình ca Morning: {average_morning_efficiency}\")\n"
   ]
  },
  {
   "cell_type": "code",
   "execution_count": 35,
   "metadata": {},
   "outputs": [
    {
     "name": "stdout",
     "output_type": "stream",
     "text": [
      "Hiệu suất trung bình các ca khác: 98.93939393939394\n"
     ]
    }
   ],
   "source": [
    "# Lọc những nhân viên làm việc vào các ca không phải 'Morning'\n",
    "other_shifts_efficiency = np_efficiency[np_shifts != 'Morning']\n",
    "average_other_shifts_efficiency = other_shifts_efficiency.mean()\n",
    "print(f\"Hiệu suất trung bình các ca khác: {average_other_shifts_efficiency}\")\n"
   ]
  },
  {
   "cell_type": "code",
   "execution_count": 36,
   "metadata": {},
   "outputs": [
    {
     "name": "stdout",
     "output_type": "stream",
     "text": [
      "[('Afternoon',  94.) ('Afternoon',  97.) ('Afternoon', 114.)\n",
      " ('Morning', 117.) ('Afternoon', 117.) ('Night',  59.) ('Morning', 133.)\n",
      " ('Afternoon',  71.) ('Night',  86.) ('Morning', 137.) ('Night', 120.)\n",
      " ('Morning', 138.) ('Afternoon', 138.) ('Night',  62.) ('Night', 108.)\n",
      " ('Afternoon', 115.) ('Morning',  89.) ('Afternoon', 137.)\n",
      " ('Afternoon',  96.) ('Morning', 138.) ('Night', 131.) ('Night',  87.)\n",
      " ('Night',  75.) ('Night', 127.) ('Afternoon', 122.) ('Night',  59.)\n",
      " ('Night',  70.) ('Night', 130.) ('Night', 119.) ('Night', 129.)\n",
      " ('Morning',  97.) ('Afternoon', 114.) ('Night', 132.) ('Night', 149.)\n",
      " ('Afternoon', 138.) ('Night',  99.) ('Afternoon',  79.) ('Morning',  69.)\n",
      " ('Night',  69.) ('Night',  64.) ('Morning',  89.) ('Night',  82.)\n",
      " ('Morning', 115.) ('Morning',  59.) ('Night', 107.) ('Morning',  82.)\n",
      " ('Night',  81.) ('Night', 124.) ('Night',  73.) ('Morning',  85.)\n",
      " ('Morning', 125.) ('Morning', 105.) ('Afternoon',  78.) ('Night',  84.)\n",
      " ('Morning',  50.) ('Afternoon',  50.) ('Night',  86.) ('Night', 103.)\n",
      " ('Night',  55.) ('Afternoon',  88.) ('Morning',  67.) ('Morning', 129.)\n",
      " ('Morning',  54.) ('Morning',  92.) ('Night', 108.) ('Night',  81.)\n",
      " ('Morning',  51.) ('Morning', 115.) ('Morning',  91.) ('Afternoon', 107.)\n",
      " ('Night',  85.) ('Morning',  61.) ('Morning',  96.) ('Afternoon', 132.)\n",
      " ('Morning', 141.) ('Night',  50.) ('Afternoon',  64.) ('Afternoon', 149.)\n",
      " ('Afternoon', 103.) ('Morning',  62.) ('Morning',  92.) ('Morning', 134.)\n",
      " ('Afternoon', 125.) ('Afternoon', 118.) ('Night',  56.)\n",
      " ('Afternoon', 118.) ('Morning',  97.) ('Morning',  53.)\n",
      " ('Afternoon', 126.) ('Night', 102.) ('Afternoon', 128.)\n",
      " ('Afternoon',  65.) ('Afternoon',  70.) ('Morning', 149.)\n",
      " ('Morning', 108.) ('Morning',  73.) ('Afternoon', 129.) ('Night',  63.)\n",
      " ('Afternoon', 135.) ('Afternoon',  98.)]\n"
     ]
    }
   ],
   "source": [
    "import numpy as np\n",
    "# Tạo structure array 'workers' với các trường 'shift' và 'efficiency'\n",
    "workers = np.array(list(zip(shifts, efficiency)), dtype=[('shift', 'U10'), ('efficiency', 'f4')])\n",
    "# Kiểm tra kết quả\n",
    "print(workers)\n"
   ]
  },
  {
   "cell_type": "code",
   "execution_count": 37,
   "metadata": {},
   "outputs": [
    {
     "name": "stdout",
     "output_type": "stream",
     "text": [
      "Nhân viên có hiệu suất cao nhất: Ca làm việc Night với hiệu suất 149.0\n",
      "Nhân viên có hiệu suất thấp nhất: Ca làm việc Afternoon với hiệu suất 50.0\n"
     ]
    }
   ],
   "source": [
    "# Sắp xếp mảng workers theo 'efficiency'\n",
    "sorted_workers = np.sort(workers, order='efficiency')\n",
    "\n",
    "# Xác định ca làm việc có hiệu suất cao nhất và thấp nhất\n",
    "highest_efficiency_worker = sorted_workers[-1] \n",
    "lowest_efficiency_worker = sorted_workers[0]  \n",
    "\n",
    "# In ra kết quả\n",
    "print(f\"Nhân viên có hiệu suất cao nhất: Ca làm việc {highest_efficiency_worker['shift']} với hiệu suất {highest_efficiency_worker['efficiency']}\")\n",
    "print(f\"Nhân viên có hiệu suất thấp nhất: Ca làm việc {lowest_efficiency_worker['shift']} với hiệu suất {lowest_efficiency_worker['efficiency']}\")\n"
   ]
  }
 ],
 "metadata": {
  "kernelspec": {
   "display_name": "Python 3",
   "language": "python",
   "name": "python3"
  },
  "language_info": {
   "codemirror_mode": {
    "name": "ipython",
    "version": 3
   },
   "file_extension": ".py",
   "mimetype": "text/x-python",
   "name": "python",
   "nbconvert_exporter": "python",
   "pygments_lexer": "ipython3",
   "version": "3.13.0"
  }
 },
 "nbformat": 4,
 "nbformat_minor": 2
}
