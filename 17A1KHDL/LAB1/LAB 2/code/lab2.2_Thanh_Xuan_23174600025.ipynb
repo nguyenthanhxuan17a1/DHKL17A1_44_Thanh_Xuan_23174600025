{
 "cells": [
  {
   "cell_type": "code",
   "execution_count": 42,
   "metadata": {},
   "outputs": [],
   "source": [
    "import csv\n",
    "import numpy as np"
   ]
  },
  {
   "cell_type": "code",
   "execution_count": 43,
   "metadata": {},
   "outputs": [
    {
     "data": {
      "text/plain": [
       "[[3.04, 3.39, 6.7],\n",
       " [5.8, 6.41, 6.62],\n",
       " [2.59, 3.57, 9.16],\n",
       " [3.81, 8.78, 9.24],\n",
       " [8.91, 9.64, 6.39]]"
      ]
     },
     "execution_count": 43,
     "metadata": {},
     "output_type": "execute_result"
    }
   ],
   "source": [
    "file_path = r'D:\\17A1KHDL\\LAB 2\\data\\diem_hoc_phan.csv'\n",
    "data = []\n",
    "\n",
    "with open(file_path, mode='r', encoding='utf-8') as file:\n",
    "    reader = csv.reader(file)\n",
    "    headers = next(reader)\n",
    "    for row in reader:\n",
    "        data.append([float(score) for score in row[2:]])\n",
    "data[:5]"
   ]
  },
  {
   "cell_type": "code",
   "execution_count": 44,
   "metadata": {},
   "outputs": [
    {
     "data": {
      "text/plain": [
       "array([[3.04, 3.39, 6.7 ],\n",
       "       [5.8 , 6.41, 6.62],\n",
       "       [2.59, 3.57, 9.16],\n",
       "       [3.81, 8.78, 9.24],\n",
       "       [8.91, 9.64, 6.39]])"
      ]
     },
     "execution_count": 44,
     "metadata": {},
     "output_type": "execute_result"
    }
   ],
   "source": [
    "# chuyển list  thành mảng numpy\n",
    "score=np.array(data)\n",
    "score[:5]"
   ]
  },
  {
   "cell_type": "code",
   "execution_count": 45,
   "metadata": {},
   "outputs": [
    {
     "data": {
      "text/plain": [
       "array([['F', 'F', 'C+'],\n",
       "       ['C', 'C', 'C+'],\n",
       "       ['F', 'F', 'A'],\n",
       "       ['F', 'A', 'A'],\n",
       "       ['A', 'A', 'C']], dtype='<U2')"
      ]
     },
     "execution_count": 45,
     "metadata": {},
     "output_type": "execute_result"
    }
   ],
   "source": [
    "grade = np.where(score >= 8.5, 'A', \n",
    "        np.where(score >= 8.0, 'B+', \n",
    "        np.where(score >= 7.0, 'B',\n",
    "        np.where(score >= 6.5, 'C+',\n",
    "        np.where(score >= 5.5, 'C',\n",
    "        np.where(score >= 5.0, 'D+',\n",
    "        np.where(score >= 4.0, 'D', 'F')))))))\n",
    "grade[:5]"
   ]
  },
  {
   "cell_type": "code",
   "execution_count": 46,
   "metadata": {},
   "outputs": [],
   "source": [
    "hp1=score[:,0].astype(float)\n",
    "hp2=score[:,1].astype(float)\n",
    "hp3=score[:,2].astype(float)\n",
    "\n"
   ]
  },
  {
   "cell_type": "code",
   "execution_count": 47,
   "metadata": {},
   "outputs": [
    {
     "name": "stdout",
     "output_type": "stream",
     "text": [
      "Tổng : 154.92999999999998\n",
      "Trung bình: 5.1643333333333326\n",
      "Độ lệch chuẩn: 2.4078519934211533\n",
      "Điểm HP1: None\n",
      "Tổng : 170.27\n",
      "Trung bình: 5.675666666666667\n",
      "Độ lệch chuẩn: 2.2494765070023637\n",
      "Điểm HP2: None\n",
      "Tổng : 188.78\n",
      "Trung bình: 6.292666666666666\n",
      "Độ lệch chuẩn: 1.8082292135923723\n",
      "Điểm HP3: None\n"
     ]
    }
   ],
   "source": [
    "def phan_tich(hp):\n",
    "    print(\"Tổng :\",hp.sum())\n",
    "    print(\"Trung bình:\",hp.mean())\n",
    "    print(\"Độ lệch chuẩn:\",hp.std())\n",
    "    return\n",
    "print(\"Điểm HP1:\",phan_tich(hp1))\n",
    "print(\"Điểm HP2:\",phan_tich(hp2))\n",
    "print(\"Điểm HP3:\",phan_tich(hp3))"
   ]
  },
  {
   "cell_type": "code",
   "execution_count": 48,
   "metadata": {},
   "outputs": [
    {
     "name": "stdout",
     "output_type": "stream",
     "text": [
      "Số lượng sinh viên đạt từng loại điểm:\n",
      "A: 15\n",
      "B: 4\n",
      "B+: 7\n",
      "C: 14\n",
      "C+: 6\n",
      "D: 10\n",
      "D+: 6\n",
      "F: 28\n"
     ]
    }
   ],
   "source": [
    " # Có bao nhiêu học sinh các điểm loại\n",
    "unique_grades, counts = np.unique(grade, return_counts=True)\n",
    "print(\"Số lượng sinh viên đạt từng loại điểm:\")\n",
    "for grade, count in zip(unique_grades, counts):\n",
    "    print(f\"{grade}: {count}\")\n"
   ]
  },
  {
   "cell_type": "code",
   "execution_count": null,
   "metadata": {},
   "outputs": [],
   "source": []
  }
 ],
 "metadata": {
  "kernelspec": {
   "display_name": "Python 3",
   "language": "python",
   "name": "python3"
  },
  "language_info": {
   "codemirror_mode": {
    "name": "ipython",
    "version": 3
   },
   "file_extension": ".py",
   "mimetype": "text/x-python",
   "name": "python",
   "nbconvert_exporter": "python",
   "pygments_lexer": "ipython3",
   "version": "3.13.0"
  }
 },
 "nbformat": 4,
 "nbformat_minor": 2
}
