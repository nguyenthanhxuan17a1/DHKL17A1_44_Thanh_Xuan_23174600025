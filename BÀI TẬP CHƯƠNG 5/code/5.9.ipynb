{
 "cells": [
  {
   "cell_type": "code",
   "execution_count": 11,
   "metadata": {},
   "outputs": [],
   "source": [
    "import pandas as pd"
   ]
  },
  {
   "cell_type": "code",
   "execution_count": 12,
   "metadata": {},
   "outputs": [],
   "source": [
    "data={\n",
    "    \"REGION_iD\":[1,2,3,4,],\n",
    "    \"REGION_NAME\":[\"Europe\",\"Americas\",\"Asia\",\"Middle East and Africa\"]\n",
    "}"
   ]
  },
  {
   "cell_type": "code",
   "execution_count": 13,
   "metadata": {},
   "outputs": [],
   "source": [
    "df=pd.DataFrame(data)\n",
    "df.to_csv(r\"D:\\BÀI TẬP\\BÀI TẬP CHƯƠNG 5\\data\\region.csv\",index=False)\n"
   ]
  },
  {
   "cell_type": "code",
   "execution_count": 14,
   "metadata": {},
   "outputs": [
    {
     "name": "stdout",
     "output_type": "stream",
     "text": [
      "   REGION_iD             REGION_NAME\n",
      "0          1                  Europe\n",
      "1          2                Americas\n",
      "2          3                    Asia\n",
      "3          4  Middle East and Africa\n"
     ]
    }
   ],
   "source": [
    "df_read=pd.read_csv(r\"D:\\BÀI TẬP\\BÀI TẬP CHƯƠNG 5\\data\\region.csv\")\n",
    "print(df_read)"
   ]
  }
 ],
 "metadata": {
  "kernelspec": {
   "display_name": "Python 3",
   "language": "python",
   "name": "python3"
  },
  "language_info": {
   "codemirror_mode": {
    "name": "ipython",
    "version": 3
   },
   "file_extension": ".py",
   "mimetype": "text/x-python",
   "name": "python",
   "nbconvert_exporter": "python",
   "pygments_lexer": "ipython3",
   "version": "3.13.0"
  }
 },
 "nbformat": 4,
 "nbformat_minor": 2
}
